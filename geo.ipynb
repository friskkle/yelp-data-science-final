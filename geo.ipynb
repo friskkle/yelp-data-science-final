{
 "cells": [
  {
   "cell_type": "code",
   "execution_count": 2,
   "metadata": {},
   "outputs": [],
   "source": [
    "import pandas as pd\n",
    "import numpy as np"
   ]
  },
  {
   "cell_type": "code",
   "execution_count": 19,
   "metadata": {},
   "outputs": [
    {
     "data": {
      "text/plain": [
       "business_id     52286\n",
       "name            52286\n",
       "address         52286\n",
       "city            52286\n",
       "state           52286\n",
       "postal_code     52286\n",
       "latitude        52286\n",
       "longitude       52286\n",
       "stars           52286\n",
       "review_count    52286\n",
       "is_open         52286\n",
       "attributes      51720\n",
       "categories      52286\n",
       "hours           45007\n",
       "dtype: int64"
      ]
     },
     "execution_count": 19,
     "metadata": {},
     "output_type": "execute_result"
    }
   ],
   "source": [
    "df = pd.read_json('archive/yelp_academic_dataset_business.json', lines=True)    \n",
    "df = df.dropna(subset=['categories'])\n",
    "restaurant_df = df[df['categories'].str.contains('restaurant', case=False)]\n",
    "restaurant_df.count()"
   ]
  },
  {
   "cell_type": "code",
   "execution_count": null,
   "metadata": {},
   "outputs": [],
   "source": []
  }
 ],
 "metadata": {
  "kernelspec": {
   "display_name": "Python 3",
   "language": "python",
   "name": "python3"
  },
  "language_info": {
   "codemirror_mode": {
    "name": "ipython",
    "version": 3
   },
   "file_extension": ".py",
   "mimetype": "text/x-python",
   "name": "python",
   "nbconvert_exporter": "python",
   "pygments_lexer": "ipython3",
   "version": "3.10.5"
  },
  "orig_nbformat": 4,
  "vscode": {
   "interpreter": {
    "hash": "369f2c481f4da34e4445cda3fffd2e751bd1c4d706f27375911949ba6bb62e1c"
   }
  }
 },
 "nbformat": 4,
 "nbformat_minor": 2
}
